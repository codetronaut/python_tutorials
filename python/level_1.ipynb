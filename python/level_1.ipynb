{
 "cells": [
  {
   "cell_type": "markdown",
   "metadata": {},
   "source": [
    "# Numpy\n",
    "\n",
    "Numpy is the core library for scientific computing in Python. It provides a high-performance multidimensional array object, and tools for working with these arrays.\n",
    "\n",
    "## Arrays\n",
    "\n",
    "A numpy array is a grid of values, all of the same type, and is indexed by a tuple of nonnegative integers. The number of dimensions is the rank of the array; the shape of an array is a tuple of integers giving the size of the array along each dimension.\n",
    "\n",
    "We can initialize numpy arrays from nested Python lists, and access elements using square brackets:"
   ]
  },
  {
   "cell_type": "code",
   "execution_count": 1,
   "metadata": {},
   "outputs": [
    {
     "name": "stdout",
     "output_type": "stream",
     "text": [
      "[[0. 0. 0.]\n",
      " [0. 0. 0.]\n",
      " [0. 0. 0.]]\n",
      "[[1. 1. 1.]\n",
      " [1. 1. 1.]\n",
      " [1. 1. 1.]]\n",
      "[[2 2]\n",
      " [2 2]]\n",
      "[[1. 0. 0.]\n",
      " [0. 1. 0.]\n",
      " [0. 0. 1.]]\n",
      "[[0.34154094 0.10083343 0.76676373]\n",
      " [0.86705261 0.43022035 0.65892978]\n",
      " [0.08163418 0.71867347 0.78946675]]\n"
     ]
    }
   ],
   "source": [
    "import numpy as np\n",
    "\n",
    "a = np.zeros((3,3))   # Create an array of all zeros\n",
    "print(a)              \n"
   ]
  },
  {
   "cell_type": "code",
   "execution_count": 2,
   "metadata": {},
   "outputs": [
    {
     "name": "stdout",
     "output_type": "stream",
     "text": [
      "[[1. 1. 1.]\n",
      " [1. 1. 1.]\n",
      " [1. 1. 1.]]\n"
     ]
    }
   ],
   "source": [
    "\n",
    "b = np.ones((3,3))    # Create an array of all ones\n",
    "print(b)              \n"
   ]
  },
  {
   "cell_type": "code",
   "execution_count": 3,
   "metadata": {},
   "outputs": [
    {
     "name": "stdout",
     "output_type": "stream",
     "text": [
      "[[2 2]\n",
      " [2 2]]\n"
     ]
    }
   ],
   "source": [
    "\n",
    "c = np.full((3,3), 2)  # Create a constant array\n",
    "print(c)               \n"
   ]
  },
  {
   "cell_type": "code",
   "execution_count": 4,
   "metadata": {},
   "outputs": [
    {
     "name": "stdout",
     "output_type": "stream",
     "text": [
      "[[1. 0. 0.]\n",
      " [0. 1. 0.]\n",
      " [0. 0. 1.]]\n"
     ]
    }
   ],
   "source": [
    "\n",
    "d = np.eye(3)         # Create a 2x2 identity matrix\n",
    "print(d)              \n"
   ]
  },
  {
   "cell_type": "code",
   "execution_count": 5,
   "metadata": {},
   "outputs": [
    {
     "name": "stdout",
     "output_type": "stream",
     "text": [
      "[[0.42174107 0.76140068 0.10463924]\n",
      " [0.98907614 0.63775994 0.46230307]\n",
      " [0.41142137 0.56910132 0.99699743]]\n"
     ]
    }
   ],
   "source": [
    "\n",
    "e = np.random.random((3,3))  # Create an array filled with random values\n",
    "print(e)                   "
   ]
  },
  {
   "cell_type": "markdown",
   "metadata": {},
   "source": [
    "## Array indexing\n",
    "\n",
    "A **slice** of an array is a view into the same data, so modifying it\n",
    "will modify the original array."
   ]
  },
  {
   "cell_type": "code",
   "execution_count": 16,
   "metadata": {},
   "outputs": [
    {
     "name": "stdout",
     "output_type": "stream",
     "text": [
      "a = \n",
      " [[1. 0. 0.]\n",
      " [0. 1. 0.]\n",
      " [0. 0. 1.]]\n",
      "a = \n",
      " [[2. 0. 0.]\n",
      " [2. 1. 0.]\n",
      " [0. 0. 1.]]\n",
      "b = \n",
      " [2. 2.]\n",
      "a = \n",
      " [[3. 0. 0.]\n",
      " [2. 1. 0.]\n",
      " [0. 0. 1.]]\n"
     ]
    }
   ],
   "source": [
    "a = np.eye(3,3)\n",
    "\n",
    "print('a = \\n',a)\n",
    "\n",
    "a[0:2,0] = 2\n",
    "\n",
    "print('a = \\n',a)\n",
    "\n",
    "b = a[0:2,0]\n",
    "\n",
    "print('b = \\n',b)\n",
    "\n",
    "b[:1] = 3\n",
    "\n",
    "print('a = \\n',a)"
   ]
  },
  {
   "cell_type": "markdown",
   "metadata": {},
   "source": [
    "**Integer array indexing** allows you to construct arbitrary arrays using the data from another array."
   ]
  },
  {
   "cell_type": "code",
   "execution_count": 17,
   "metadata": {},
   "outputs": [
    {
     "name": "stdout",
     "output_type": "stream",
     "text": [
      "a = \n",
      " [[1. 0. 0.]\n",
      " [0. 1. 0.]\n",
      " [0. 0. 1.]]\n",
      "a = \n",
      " [[2. 0. 0.]\n",
      " [2. 1. 0.]\n",
      " [0. 0. 1.]]\n",
      "b = \n",
      " [2. 2.]\n",
      "a = \n",
      " [[2. 0. 0.]\n",
      " [2. 1. 0.]\n",
      " [0. 0. 1.]]\n"
     ]
    }
   ],
   "source": [
    "a = np.eye(3,3)\n",
    "\n",
    "print('a = \\n',a)\n",
    "\n",
    "a[0:2,0] = 2\n",
    "\n",
    "print('a = \\n',a)\n",
    "\n",
    "b = a[[0,1],[0]]\n",
    "\n",
    "print('b = \\n',b)\n",
    "\n",
    "b[:1] = 3\n",
    "\n",
    "print('a = \\n',a)"
   ]
  },
  {
   "cell_type": "markdown",
   "metadata": {},
   "source": [
    "**Boolean** array indexing lets you pick out arbitrary elements of an array. Frequently this type of indexing is used to select the elements of an array that satisfy some condition"
   ]
  },
  {
   "cell_type": "code",
   "execution_count": 19,
   "metadata": {},
   "outputs": [
    {
     "name": "stdout",
     "output_type": "stream",
     "text": [
      "[[0.11058793 0.12321249 0.20505397]\n",
      " [0.41184288 0.30881771 0.73199358]\n",
      " [0.81273234 0.14520344 0.35144464]]\n"
     ]
    }
   ],
   "source": [
    "a = np.random.random((3,3))\n",
    "\n",
    "print(a)\n",
    "\n",
    "mask = a>0.5\n",
    "\n",
    "print(a[mask])"
   ]
  },
  {
   "cell_type": "code",
   "execution_count": null,
   "metadata": {},
   "outputs": [],
   "source": []
  }
 ],
 "metadata": {
  "kernelspec": {
   "display_name": "Python 3",
   "language": "python",
   "name": "python3"
  },
  "language_info": {
   "codemirror_mode": {
    "name": "ipython",
    "version": 3
   },
   "file_extension": ".py",
   "mimetype": "text/x-python",
   "name": "python",
   "nbconvert_exporter": "python",
   "pygments_lexer": "ipython3",
   "version": "3.6.4"
  }
 },
 "nbformat": 4,
 "nbformat_minor": 2
}
