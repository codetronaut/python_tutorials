{
 "cells": [
  {
   "cell_type": "markdown",
   "metadata": {},
   "source": [
    "# Numpy\n",
    "\n",
    "Numpy is the core library for scientific computing in Python. It provides a high-performance multidimensional array object, and tools for working with these arrays.\n",
    "\n",
    "## Arrays\n",
    "\n",
    "A numpy array is a grid of values, all of the same type, and is indexed by a tuple of nonnegative integers. The number of dimensions is the rank of the array; the shape of an array is a tuple of integers giving the size of the array along each dimension.\n",
    "\n",
    "We can initialize numpy arrays from nested Python lists, and access elements using square brackets:"
   ]
  },
  {
   "cell_type": "code",
   "execution_count": 1,
   "metadata": {},
   "outputs": [
    {
     "name": "stdout",
     "output_type": "stream",
     "text": [
      "[[0. 0. 0.]\n",
      " [0. 0. 0.]\n",
      " [0. 0. 0.]]\n"
     ]
    }
   ],
   "source": [
    "import numpy as np\n",
    "\n",
    "a = np.zeros((3,3))   # Create an array of all zeros\n",
    "print(a)              \n"
   ]
  },
  {
   "cell_type": "code",
   "execution_count": 2,
   "metadata": {},
   "outputs": [
    {
     "name": "stdout",
     "output_type": "stream",
     "text": [
      "[[1. 1. 1.]\n",
      " [1. 1. 1.]\n",
      " [1. 1. 1.]]\n"
     ]
    }
   ],
   "source": [
    "\n",
    "b = np.ones((3,3))    # Create an array of all ones\n",
    "print(b)              \n"
   ]
  },
  {
   "cell_type": "code",
   "execution_count": 3,
   "metadata": {},
   "outputs": [
    {
     "name": "stdout",
     "output_type": "stream",
     "text": [
      "[[2 2 2]\n",
      " [2 2 2]\n",
      " [2 2 2]]\n"
     ]
    }
   ],
   "source": [
    "\n",
    "c = np.full((3,3), 2)  # Create a constant array\n",
    "print(c)               \n"
   ]
  },
  {
   "cell_type": "code",
   "execution_count": 4,
   "metadata": {},
   "outputs": [
    {
     "name": "stdout",
     "output_type": "stream",
     "text": [
      "[[1. 0. 0.]\n",
      " [0. 1. 0.]\n",
      " [0. 0. 1.]]\n"
     ]
    }
   ],
   "source": [
    "\n",
    "d = np.eye(3)         # Create a 2x2 identity matrix\n",
    "print(d)              \n"
   ]
  },
  {
   "cell_type": "code",
   "execution_count": 5,
   "metadata": {},
   "outputs": [
    {
     "name": "stdout",
     "output_type": "stream",
     "text": [
      "[[0.00268268 0.25531019 0.00638633]\n",
      " [0.10258479 0.78479715 0.61621527]\n",
      " [0.09358856 0.21277667 0.19002384]]\n"
     ]
    }
   ],
   "source": [
    "\n",
    "e = np.random.random((3,3))  # Create an array filled with random values\n",
    "print(e)                   "
   ]
  },
  {
   "cell_type": "markdown",
   "metadata": {},
   "source": [
    "## Array indexing\n",
    "\n",
    "A **slice** of an array is a view into the same data, so modifying it\n",
    "will modify the original array."
   ]
  },
  {
   "cell_type": "code",
   "execution_count": 6,
   "metadata": {},
   "outputs": [
    {
     "name": "stdout",
     "output_type": "stream",
     "text": [
      "a = \n",
      " [[1. 0. 0.]\n",
      " [0. 1. 0.]\n",
      " [0. 0. 1.]]\n",
      "a = \n",
      " [[2. 0. 0.]\n",
      " [2. 1. 0.]\n",
      " [0. 0. 1.]]\n",
      "b = \n",
      " [2. 2.]\n",
      "a = \n",
      " [[3. 0. 0.]\n",
      " [2. 1. 0.]\n",
      " [0. 0. 1.]]\n"
     ]
    }
   ],
   "source": [
    "a = np.eye(3,3)\n",
    "\n",
    "print('a = \\n',a)\n",
    "\n",
    "a[0:2,0] = 2\n",
    "\n",
    "print('a = \\n',a)\n",
    "\n",
    "b = a[0:2,0]\n",
    "\n",
    "print('b = \\n',b)\n",
    "\n",
    "b[:1] = 3\n",
    "\n",
    "print('a = \\n',a)"
   ]
  },
  {
   "cell_type": "markdown",
   "metadata": {},
   "source": [
    "**Integer array indexing** allows you to construct arbitrary arrays using the data from another array."
   ]
  },
  {
   "cell_type": "code",
   "execution_count": 7,
   "metadata": {},
   "outputs": [
    {
     "name": "stdout",
     "output_type": "stream",
     "text": [
      "a = \n",
      " [[1. 0. 0.]\n",
      " [0. 1. 0.]\n",
      " [0. 0. 1.]]\n",
      "a = \n",
      " [[2. 0. 0.]\n",
      " [2. 1. 0.]\n",
      " [0. 0. 1.]]\n",
      "b = \n",
      " [2. 2.]\n",
      "a = \n",
      " [[2. 0. 0.]\n",
      " [2. 1. 0.]\n",
      " [0. 0. 1.]]\n"
     ]
    }
   ],
   "source": [
    "a = np.eye(3,3)\n",
    "\n",
    "print('a = \\n',a)\n",
    "\n",
    "a[0:2,0] = 2\n",
    "\n",
    "print('a = \\n',a)\n",
    "\n",
    "b = a[[0,1],[0]]\n",
    "\n",
    "print('b = \\n',b)\n",
    "\n",
    "b[:1] = 3\n",
    "\n",
    "print('a = \\n',a)"
   ]
  },
  {
   "cell_type": "markdown",
   "metadata": {},
   "source": [
    "**Boolean** array indexing lets you pick out arbitrary elements of an array. Frequently this type of indexing is used to select the elements of an array that satisfy some condition"
   ]
  },
  {
   "cell_type": "code",
   "execution_count": 27,
   "metadata": {},
   "outputs": [
    {
     "name": "stdout",
     "output_type": "stream",
     "text": [
      "[[0.38455792 0.50529156 0.75617962 0.64084549]\n",
      " [0.03605964 0.3054136  0.98752728 0.0881511 ]\n",
      " [0.76571043 0.7614409  0.87885683 0.06726093]]\n",
      "\n",
      " [0.50529156 0.75617962 0.64084549 0.98752728 0.76571043 0.7614409\n",
      " 0.87885683]\n"
     ]
    }
   ],
   "source": [
    "a = np.random.random((3,4))\n",
    "\n",
    "print(a)\n",
    "\n",
    "mask = a>0.5\n",
    "\n",
    "print('\\n',a[mask])"
   ]
  },
  {
   "cell_type": "code",
   "execution_count": 28,
   "metadata": {},
   "outputs": [
    {
     "name": "stdout",
     "output_type": "stream",
     "text": [
      "Mean:  0.5147746074558661\n",
      "Mean:  [0.57171865 0.3542879  0.61831727]\n",
      "Min:  0.03605964184059163\n",
      "Min:  [0.38455792 0.03605964 0.06726093]\n",
      "Max:  0.987527279395928\n",
      "Max:  [0.75617962 0.98752728 0.87885683]\n",
      "Standard deviation:  0.31968170792940404\n",
      "Standard deviation:  [0.13986249 0.37930161 0.3216182 ]\n"
     ]
    }
   ],
   "source": [
    "print('Mean: ', a.mean())\n",
    "\n",
    "print('Mean: ', a.mean(axis=1))\n",
    "\n",
    "print('Min: ', a.min())\n",
    "\n",
    "print('Min: ', a.min(axis=1))\n",
    "\n",
    "print('Max: ', a.max())\n",
    "\n",
    "print('Max: ', a.max(axis=1))\n",
    "\n",
    "print('Standard deviation: ', a.std())\n",
    "\n",
    "print('Standard deviation: ', a.std(axis=1))"
   ]
  },
  {
   "cell_type": "code",
   "execution_count": 33,
   "metadata": {},
   "outputs": [
    {
     "name": "stdout",
     "output_type": "stream",
     "text": [
      "[[0.38455792 0.03605964 0.76571043]\n",
      " [0.50529156 0.3054136  0.7614409 ]\n",
      " [0.75617962 0.98752728 0.87885683]\n",
      " [0.64084549 0.0881511  0.06726093]]\n",
      "\n",
      " (4, 3)\n",
      "\n",
      " [[0.38455792 0.50529156 0.75617962 0.64084549 0.03605964 0.3054136 ]\n",
      " [0.98752728 0.0881511  0.76571043 0.7614409  0.87885683 0.06726093]]\n",
      "\n",
      " [0.38455792 0.50529156 0.75617962 0.64084549 0.03605964 0.3054136\n",
      " 0.98752728 0.0881511  0.76571043 0.7614409  0.87885683 0.06726093]\n"
     ]
    }
   ],
   "source": [
    "# array manipulation\n",
    "\n",
    "print(a.transpose())\n",
    "\n",
    "print('\\n', a.transpose().shape)\n",
    "\n",
    "print('\\n', a.reshape(2,6))\n",
    "\n",
    "print('\\n',a.ravel())\n",
    "\n"
   ]
  },
  {
   "cell_type": "code",
   "execution_count": 19,
   "metadata": {},
   "outputs": [
    {
     "name": "stdout",
     "output_type": "stream",
     "text": [
      "[2.  2.5 3.  3.5 4.  4.5 5.  5.5 6.  6.5 7.  7.5]\n",
      "[10.  12.5 15.  17.5 20. ]\n",
      "[10. 12. 14. 16. 18.]\n"
     ]
    }
   ],
   "source": [
    "#Array From Numerical Ranges\n",
    "\n",
    "x = np.arange(2,8,0.5) \n",
    "print(x)\n",
    "\n",
    "\n",
    "x = np.linspace(10,20, 5, endpoint = True) \n",
    "print(x)\n",
    "\n",
    "x = np.linspace(10,20, 5, endpoint = False) \n",
    "print(x)\n"
   ]
  },
  {
   "cell_type": "code",
   "execution_count": 42,
   "metadata": {},
   "outputs": [
    {
     "name": "stdout",
     "output_type": "stream",
     "text": [
      "First array:\n",
      "[[0. 1. 2.]\n",
      " [3. 4. 5.]\n",
      " [6. 7. 8.]]\n",
      "\n",
      "\n",
      "Second array:\n",
      "[10 20 30]\n",
      "\n",
      "\n",
      "Add the two arrays:\n",
      "[[10. 21. 32.]\n",
      " [13. 24. 35.]\n",
      " [16. 27. 38.]]\n",
      "\n",
      "\n",
      "Add the two arrays:\n",
      "[[10. 21. 32.]\n",
      " [13. 24. 35.]\n",
      " [16. 27. 38.]]\n",
      "\n",
      "\n"
     ]
    }
   ],
   "source": [
    "# mathematical functions\n",
    "\n",
    "a = np.arange(9, dtype = np.float_).reshape(3,3) \n",
    "\n",
    "print('First array:') \n",
    "print(a) \n",
    "print('\\n')  \n",
    "\n",
    "print('Second array:') \n",
    "b = np.array([10,20,30]) \n",
    "print(b)\n",
    "print('\\n')  \n",
    "\n",
    "print('Add the two arrays:') \n",
    "print(np.add(a,b)) \n",
    "print('\\n')  \n",
    "\n",
    "print('Add the two arrays:') \n",
    "print(a+b) \n",
    "print('\\n')  "
   ]
  },
  {
   "cell_type": "code",
   "execution_count": 45,
   "metadata": {},
   "outputs": [
    {
     "name": "stdout",
     "output_type": "stream",
     "text": [
      "[[1 2]\n",
      " [3 4]\n",
      " [5 6]]\n",
      "\n",
      " [[1 2]\n",
      " [3 4]\n",
      " [5 6]]\n",
      "\n",
      " [[1 2 5]\n",
      " [3 4 6]]\n",
      "\n",
      " [[1 2 5]\n",
      " [3 4 6]]\n",
      "\n",
      " [1 2 3 4 5 6]\n"
     ]
    }
   ],
   "source": [
    "# concatenation\n",
    "\n",
    "a = np.array([[1, 2], [3, 4]])\n",
    "b = np.array([[5, 6]])\n",
    "\n",
    "print(np.concatenate((a, b), axis=0))\n",
    "\n",
    "print('\\n', np.vstack((a, b)))\n",
    "\n",
    "\n",
    "print('\\n', np.concatenate((a, b.T), axis=1))\n",
    "\n",
    "print('\\n', np.hstack((a, b.T)))\n",
    "\n",
    "print('\\n', np.concatenate((a, b), axis=None))\n"
   ]
  },
  {
   "cell_type": "code",
   "execution_count": null,
   "metadata": {},
   "outputs": [],
   "source": []
  }
 ],
 "metadata": {
  "kernelspec": {
   "display_name": "Python 3",
   "language": "python",
   "name": "python3"
  },
  "language_info": {
   "codemirror_mode": {
    "name": "ipython",
    "version": 3
   },
   "file_extension": ".py",
   "mimetype": "text/x-python",
   "name": "python",
   "nbconvert_exporter": "python",
   "pygments_lexer": "ipython3",
   "version": "3.6.4"
  }
 },
 "nbformat": 4,
 "nbformat_minor": 2
}
