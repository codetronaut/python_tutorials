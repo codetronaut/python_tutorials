{
 "cells": [
  {
   "cell_type": "markdown",
   "metadata": {},
   "source": [
    "# Installing python\n",
    "\n",
    "## Most^ safe way is to use Anaconda package manager.\n",
    "\n",
    "+ **The Most^ Popular Python Data Science Platform**\n",
    "+ **Easy to use and do interfare with native python**"
   ]
  },
  {
   "cell_type": "markdown",
   "metadata": {},
   "source": [
    "## Download for your OS from here.\n",
    " \n",
    "https://www.anaconda.com/download/#linux\n",
    "\n",
    "## Installing on Linux\n",
    "\n",
    "http://docs.anaconda.com/anaconda/install/linux/\n",
    "\n",
    "## Installing on Windows\n",
    "\n",
    "http://docs.anaconda.com/anaconda/install/windows/\n",
    "\n",
    "## Installing on macOS\n",
    "\n",
    "http://docs.anaconda.com/anaconda/install/mac-os/\n",
    "\n",
    "\n",
    "^ may or may not be"
   ]
  },
  {
   "cell_type": "code",
   "execution_count": null,
   "metadata": {},
   "outputs": [],
   "source": []
  }
 ],
 "metadata": {
  "kernelspec": {
   "display_name": "Python 3",
   "language": "python",
   "name": "python3"
  },
  "language_info": {
   "codemirror_mode": {
    "name": "ipython",
    "version": 3
   },
   "file_extension": ".py",
   "mimetype": "text/x-python",
   "name": "python",
   "nbconvert_exporter": "python",
   "pygments_lexer": "ipython3",
   "version": "3.6.4"
  }
 },
 "nbformat": 4,
 "nbformat_minor": 2
}
